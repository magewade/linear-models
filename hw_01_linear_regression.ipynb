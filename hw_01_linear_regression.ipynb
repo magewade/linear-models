{
  "cells": [
    {
      "cell_type": "markdown",
      "metadata": {
        "id": "Xdj9KTpCgFQt"
      },
      "source": [
        "# Домашнее задание: Линейные модели. Начало"
      ]
    },
    {
      "cell_type": "markdown",
      "metadata": {
        "id": "zaS6e29EgFQw"
      },
      "source": [
        "В этом домашнем задании будем работать с датасетом `diabetes` - предсказывать уровень сахара в крови пациентов по определенным показателям."
      ]
    },
    {
      "cell_type": "markdown",
      "metadata": {
        "id": "ygPNcrxSgFQw"
      },
      "source": [
        "Загрузим набор данных и сохраним информацию о признаках в переменную `X`, а о зависимой переменной – в переменную `y`."
      ]
    },
    {
      "cell_type": "code",
      "execution_count": 2,
      "metadata": {
        "id": "7fgg6HGlgFQw"
      },
      "outputs": [],
      "source": [
        "import numpy as np\n",
        "import pandas as pd\n",
        "import matplotlib.pyplot as plt"
      ]
    },
    {
      "cell_type": "code",
      "execution_count": 10,
      "metadata": {
        "id": "VxWqG3fWgFQw"
      },
      "outputs": [
        {
          "data": {
            "text/html": [
              "<div>\n",
              "<style scoped>\n",
              "    .dataframe tbody tr th:only-of-type {\n",
              "        vertical-align: middle;\n",
              "    }\n",
              "\n",
              "    .dataframe tbody tr th {\n",
              "        vertical-align: top;\n",
              "    }\n",
              "\n",
              "    .dataframe thead th {\n",
              "        text-align: right;\n",
              "    }\n",
              "</style>\n",
              "<table border=\"1\" class=\"dataframe\">\n",
              "  <thead>\n",
              "    <tr style=\"text-align: right;\">\n",
              "      <th></th>\n",
              "      <th>age</th>\n",
              "      <th>sex</th>\n",
              "      <th>bmi</th>\n",
              "      <th>bp</th>\n",
              "      <th>s1</th>\n",
              "      <th>s2</th>\n",
              "      <th>s3</th>\n",
              "      <th>s4</th>\n",
              "      <th>s5</th>\n",
              "      <th>s6</th>\n",
              "    </tr>\n",
              "  </thead>\n",
              "  <tbody>\n",
              "    <tr>\n",
              "      <th>0</th>\n",
              "      <td>0.038076</td>\n",
              "      <td>0.050680</td>\n",
              "      <td>0.061696</td>\n",
              "      <td>0.021872</td>\n",
              "      <td>-0.044223</td>\n",
              "      <td>-0.034821</td>\n",
              "      <td>-0.043401</td>\n",
              "      <td>-0.002592</td>\n",
              "      <td>0.019907</td>\n",
              "      <td>-0.017646</td>\n",
              "    </tr>\n",
              "    <tr>\n",
              "      <th>1</th>\n",
              "      <td>-0.001882</td>\n",
              "      <td>-0.044642</td>\n",
              "      <td>-0.051474</td>\n",
              "      <td>-0.026328</td>\n",
              "      <td>-0.008449</td>\n",
              "      <td>-0.019163</td>\n",
              "      <td>0.074412</td>\n",
              "      <td>-0.039493</td>\n",
              "      <td>-0.068332</td>\n",
              "      <td>-0.092204</td>\n",
              "    </tr>\n",
              "    <tr>\n",
              "      <th>2</th>\n",
              "      <td>0.085299</td>\n",
              "      <td>0.050680</td>\n",
              "      <td>0.044451</td>\n",
              "      <td>-0.005670</td>\n",
              "      <td>-0.045599</td>\n",
              "      <td>-0.034194</td>\n",
              "      <td>-0.032356</td>\n",
              "      <td>-0.002592</td>\n",
              "      <td>0.002861</td>\n",
              "      <td>-0.025930</td>\n",
              "    </tr>\n",
              "    <tr>\n",
              "      <th>3</th>\n",
              "      <td>-0.089063</td>\n",
              "      <td>-0.044642</td>\n",
              "      <td>-0.011595</td>\n",
              "      <td>-0.036656</td>\n",
              "      <td>0.012191</td>\n",
              "      <td>0.024991</td>\n",
              "      <td>-0.036038</td>\n",
              "      <td>0.034309</td>\n",
              "      <td>0.022688</td>\n",
              "      <td>-0.009362</td>\n",
              "    </tr>\n",
              "    <tr>\n",
              "      <th>4</th>\n",
              "      <td>0.005383</td>\n",
              "      <td>-0.044642</td>\n",
              "      <td>-0.036385</td>\n",
              "      <td>0.021872</td>\n",
              "      <td>0.003935</td>\n",
              "      <td>0.015596</td>\n",
              "      <td>0.008142</td>\n",
              "      <td>-0.002592</td>\n",
              "      <td>-0.031988</td>\n",
              "      <td>-0.046641</td>\n",
              "    </tr>\n",
              "  </tbody>\n",
              "</table>\n",
              "</div>"
            ],
            "text/plain": [
              "        age       sex       bmi        bp        s1        s2        s3  \\\n",
              "0  0.038076  0.050680  0.061696  0.021872 -0.044223 -0.034821 -0.043401   \n",
              "1 -0.001882 -0.044642 -0.051474 -0.026328 -0.008449 -0.019163  0.074412   \n",
              "2  0.085299  0.050680  0.044451 -0.005670 -0.045599 -0.034194 -0.032356   \n",
              "3 -0.089063 -0.044642 -0.011595 -0.036656  0.012191  0.024991 -0.036038   \n",
              "4  0.005383 -0.044642 -0.036385  0.021872  0.003935  0.015596  0.008142   \n",
              "\n",
              "         s4        s5        s6  \n",
              "0 -0.002592  0.019907 -0.017646  \n",
              "1 -0.039493 -0.068332 -0.092204  \n",
              "2 -0.002592  0.002861 -0.025930  \n",
              "3  0.034309  0.022688 -0.009362  \n",
              "4 -0.002592 -0.031988 -0.046641  "
            ]
          },
          "execution_count": 10,
          "metadata": {},
          "output_type": "execute_result"
        }
      ],
      "source": [
        "from sklearn.datasets import load_diabetes\n",
        "\n",
        "data = load_diabetes(as_frame=True)\n",
        "\n",
        "X = data.data\n",
        "y = data.target\n",
        "\n",
        "X.head()"
      ]
    },
    {
      "cell_type": "markdown",
      "metadata": {
        "id": "b_U56JgAgFQx"
      },
      "source": [
        "## Задание 1\n",
        "\n",
        "Есть ли в наборе данных пропущенные значения? Если да, то удалите их.\n",
        "\n",
        "Сколько строк после удаления стало в датасете?"
      ]
    },
    {
      "cell_type": "code",
      "execution_count": 12,
      "metadata": {
        "id": "fiSpOONkgFQx"
      },
      "outputs": [
        {
          "data": {
            "text/plain": [
              "(442, 10)"
            ]
          },
          "execution_count": 12,
          "metadata": {},
          "output_type": "execute_result"
        }
      ],
      "source": [
        "# your code here\n",
        "X.shape"
      ]
    },
    {
      "cell_type": "markdown",
      "metadata": {
        "id": "m9ormdqggFQx"
      },
      "source": [
        "Используя функцию `train_test_split()`, разделите выборку на тренировочную и тестовую, и долю тестовой выборки задайте равной 0.3. Так как разбиение осуществляется случайным образом, не забудьте зафиксировать `random_state=42` для воспроизводимости результатов."
      ]
    },
    {
      "cell_type": "code",
      "execution_count": 14,
      "metadata": {
        "id": "9ejTIGB2gFQx"
      },
      "outputs": [],
      "source": [
        "from sklearn.model_selection import train_test_split\n",
        "\n",
        "Xtrain, Xtest, ytrain, ytest = train_test_split(X, y, random_state=42, test_size=0.3)"
      ]
    },
    {
      "cell_type": "markdown",
      "metadata": {
        "id": "_wMtxXo1gFQx"
      },
      "source": [
        "## Задание 2\n",
        "\n",
        "На тренировочной выборке обучите шесть классификаторов kNN, отличающихся только числом соседей. Для первого классификатора число соседей поставьте равным 1, для второго - 3, для третьего – 5, для четвертого – 10, для пятого – 15 и для шестого – 25 (обратите внимание на параметр `n_neighbours` класса `KNeighborsRegressor`).\n",
        "\n",
        "Вычислите значение метрики $R^2$ на тесте для каждой из моделей. Чему равно значение метрики для лучшей модели? Ответ округлите до сотых."
      ]
    },
    {
      "cell_type": "code",
      "execution_count": 15,
      "metadata": {
        "id": "6LHvC2Bt3ZwD"
      },
      "outputs": [],
      "source": [
        "from sklearn.neighbors import KNeighborsRegressor\n",
        "from sklearn.metrics import r2_score"
      ]
    },
    {
      "cell_type": "code",
      "execution_count": 16,
      "metadata": {
        "id": "qkHDPUusgFQy"
      },
      "outputs": [
        {
          "name": "stdout",
          "output_type": "stream",
          "text": [
            "Лучшее значение метрики R^2: 0.45 для 25 соседей.\n"
          ]
        }
      ],
      "source": [
        "# your code here\n",
        "n_neighbors_list = [1, 3, 5, 10, 15, 25]\n",
        "\n",
        "# Словарь для сохранения значений метрики R^2 для каждого классификатора\n",
        "r2_scores = {}\n",
        "\n",
        "# Обучение и оценка моделей для различных чисел соседей\n",
        "for n_neighbors in n_neighbors_list:\n",
        "    knn_regressor = KNeighborsRegressor(n_neighbors=n_neighbors)\n",
        "    knn_regressor.fit(Xtrain, ytrain)\n",
        "    y_pred = knn_regressor.predict(Xtest)\n",
        "    r2_scores[n_neighbors] = r2_score(ytest, y_pred)\n",
        "\n",
        "# Нахождение лучшей модели по значению метрики R^2\n",
        "best_n_neighbors = max(r2_scores, key=r2_scores.get)\n",
        "best_r2_score = r2_scores[best_n_neighbors]\n",
        "\n",
        "print(f\"Лучшее значение метрики R^2: {best_r2_score:.2f} для {best_n_neighbors} соседей.\")"
      ]
    },
    {
      "cell_type": "markdown",
      "metadata": {
        "id": "nOjAAfdYsQlm"
      },
      "source": [
        "## Задание 3\n",
        "\n",
        "Теперь обучите линейную регрессию (LineaRegression) на тренировочных данных и выведите $R^2$ на тесте, ответ округлите до сотых. Какое значение метрики получилось?"
      ]
    },
    {
      "cell_type": "code",
      "execution_count": 17,
      "metadata": {
        "id": "WhZqMT0hsQtB"
      },
      "outputs": [
        {
          "data": {
            "text/plain": [
              "0.4772897164322617"
            ]
          },
          "execution_count": 17,
          "metadata": {},
          "output_type": "execute_result"
        }
      ],
      "source": [
        "from sklearn.linear_model import LinearRegression\n",
        "\n",
        "# your code here\n",
        "linear_regression = LinearRegression()\n",
        "linear_regression.fit(Xtrain, ytrain)\n",
        "y_pred = linear_regression.predict(Xtest)\n",
        "r2_linear_regression = r2_score(ytest, y_pred)\n",
        "r2_linear_regression"
      ]
    },
    {
      "cell_type": "markdown",
      "metadata": {
        "id": "RsT8f6U-sZuz"
      },
      "source": [
        "## Задание 4\n",
        "\n",
        "Обучите SGDRegressor с гиперпараметрами по умолчанию на тренировочных данных и выведите $R^2$ на тесте, ответ округлите до сотых. Какое значение метрики получилось?"
      ]
    },
    {
      "cell_type": "code",
      "execution_count": 18,
      "metadata": {
        "id": "IVmzytjPsZ2U"
      },
      "outputs": [
        {
          "name": "stderr",
          "output_type": "stream",
          "text": [
            "/Users/magewade/Desktop/LinearRegression/.venv/lib/python3.11/site-packages/sklearn/linear_model/_stochastic_gradient.py:1575: ConvergenceWarning: Maximum number of iteration reached before convergence. Consider increasing max_iter to improve the fit.\n",
            "  warnings.warn(\n"
          ]
        },
        {
          "data": {
            "text/plain": [
              "0.41659585106266095"
            ]
          },
          "execution_count": 18,
          "metadata": {},
          "output_type": "execute_result"
        }
      ],
      "source": [
        "from sklearn.linear_model import SGDRegressor\n",
        "\n",
        "# your code here\n",
        "sgdr = SGDRegressor()\n",
        "sgdr.fit(Xtrain, ytrain)\n",
        "y_pred = sgdr.predict(Xtest)\n",
        "r2_sgdr = r2_score(ytest, y_pred)\n",
        "r2_sgdr"
      ]
    },
    {
      "cell_type": "markdown",
      "metadata": {
        "id": "x0zHJfVTsnRf"
      },
      "source": [
        "## Задание 5\n",
        "\n",
        "Подберите оптимальный градиентный шаг `eta0` для SGDRegressor. Перебирайте шаг в диапазоне от 0.00001 до 0.1 не включительно с шагом 0.0001.\n",
        "\n",
        "Какого наилучшего качества на тесте удалось добиться? Полученное значение $R^2$ округлите до сотых."
      ]
    },
    {
      "cell_type": "code",
      "execution_count": 30,
      "metadata": {
        "id": "DR6bfi1Dsq0E"
      },
      "outputs": [
        {
          "name": "stdout",
          "output_type": "stream",
          "text": [
            "Fitting 5 folds for each of 5 candidates, totalling 25 fits\n",
            "[CV] END .........................................eta0=1e-05; total time=   0.0s\n",
            "[CV] END .........................................eta0=1e-05; total time=   0.0s\n",
            "[CV] END .........................................eta0=1e-05; total time=   0.0s\n",
            "[CV] END .........................................eta0=1e-05; total time=   0.0s\n",
            "[CV] END .........................................eta0=1e-05; total time=   0.0s\n",
            "[CV] END ........................................eta0=0.0001; total time=   0.0s\n",
            "[CV] END ........................................eta0=0.0001; total time=   0.0s\n",
            "[CV] END ........................................eta0=0.0001; total time=   0.0s\n",
            "[CV] END ........................................eta0=0.0001; total time=   0.0s\n",
            "[CV] END ........................................eta0=0.0001; total time=   0.0s\n",
            "[CV] END .........................................eta0=0.001; total time=   0.0s\n",
            "[CV] END .........................................eta0=0.001; total time=   0.0s\n",
            "[CV] END .........................................eta0=0.001; total time=   0.0s\n",
            "[CV] END .........................................eta0=0.001; total time=   0.0s\n",
            "[CV] END .........................................eta0=0.001; total time=   0.0s\n",
            "[CV] END ..........................................eta0=0.01; total time=   0.0s\n",
            "[CV] END ..........................................eta0=0.01; total time=   0.0s\n",
            "[CV] END ..........................................eta0=0.01; total time=   0.0s\n",
            "[CV] END ..........................................eta0=0.01; total time=   0.0s\n",
            "[CV] END ..........................................eta0=0.01; total time=   0.0s\n",
            "[CV] END ...........................................eta0=0.1; total time=   0.0s\n",
            "[CV] END ...........................................eta0=0.1; total time=   0.0s\n",
            "[CV] END ...........................................eta0=0.1; total time=   0.0s\n",
            "[CV] END ...........................................eta0=0.1; total time=   0.0s\n",
            "[CV] END ...........................................eta0=0.1; total time=   0.0s\n",
            "Наилучшее значение R^2: 0.468 для eta0=0.10000.\n"
          ]
        }
      ],
      "source": [
        "import warnings\n",
        "from sklearn.exceptions import ConvergenceWarning\n",
        "from sklearn.model_selection import GridSearchCV\n",
        "\n",
        "# Отключение предупреждений\n",
        "warnings.filterwarnings(\"ignore\", category=ConvergenceWarning)\n",
        "\n",
        "# your code here\n",
        "#  0.00001 до 0.1 не включительно с шагом 0.0001.\n",
        "r2_sgdr_scores = {}\n",
        "steps = [0.00001, 0.0001, 0.001, 0.01, 0.1]\n",
        "\n",
        "\n",
        "sgdr = SGDRegressor(random_state=42)\n",
        "\n",
        "param_grid = {'eta0': steps}\n",
        "\n",
        "grid_search = GridSearchCV(estimator=sgdr, param_grid=param_grid, cv=5, verbose=2)\n",
        "\n",
        "grid_search.fit(Xtrain, ytrain)\n",
        "\n",
        "best_eta0 = grid_search.best_params_['eta0']\n",
        "\n",
        "best_model = grid_search.best_estimator_\n",
        "\n",
        "y_pred = best_model.predict(Xtest)\n",
        "\n",
        "best_r2_score = r2_score(ytest, y_pred)\n",
        "\n",
        "print(f\"Наилучшее значение R^2: {best_r2_score:.3f} для eta0={best_eta0:.5f}.\")\n"
      ]
    },
    {
      "cell_type": "markdown",
      "metadata": {
        "id": "F7hZanobuZA7"
      },
      "source": [
        "## Задание 6\n",
        "\n",
        "Обучите SGDRegressor с функцией потерь MAE (другие гиперпараметры оставьте по умолчанию). Чему равен $R^2$ на тесте? Ответ округлите до сотых.\n",
        "\n",
        "P.S. Зафиксируйте `random_state=42`."
      ]
    },
    {
      "cell_type": "code",
      "execution_count": 32,
      "metadata": {
        "id": "XzHBwtemuJVt"
      },
      "outputs": [
        {
          "data": {
            "text/plain": [
              "-0.2420156113369718"
            ]
          },
          "execution_count": 32,
          "metadata": {},
          "output_type": "execute_result"
        }
      ],
      "source": [
        "# your code here\n",
        "sgdr = SGDRegressor(loss='epsilon_insensitive', random_state=42)\n",
        "sgdr.fit(Xtrain, ytrain)\n",
        "y_pred = sgdr.predict(Xtest)\n",
        "r2_sgdr = r2_score(ytest, y_pred)\n",
        "r2_sgdr"
      ]
    },
    {
      "cell_type": "markdown",
      "metadata": {
        "id": "eeV-8sGgu0lV"
      },
      "source": [
        "## Задание 7\n",
        "\n",
        "Выведите на экран веса наилучшей из линейных моделей.\n",
        "\n",
        "Какой признак имеет наибольший по модулю вес?"
      ]
    },
    {
      "cell_type": "code",
      "execution_count": null,
      "metadata": {
        "id": "sSzwoV-8u21t"
      },
      "outputs": [],
      "source": [
        "# your code here"
      ]
    }
  ],
  "metadata": {
    "colab": {
      "provenance": []
    },
    "kernelspec": {
      "display_name": "Python 3",
      "language": "python",
      "name": "python3"
    },
    "language_info": {
      "codemirror_mode": {
        "name": "ipython",
        "version": 3
      },
      "file_extension": ".py",
      "mimetype": "text/x-python",
      "name": "python",
      "nbconvert_exporter": "python",
      "pygments_lexer": "ipython3",
      "version": "3.11.2"
    }
  },
  "nbformat": 4,
  "nbformat_minor": 0
}
