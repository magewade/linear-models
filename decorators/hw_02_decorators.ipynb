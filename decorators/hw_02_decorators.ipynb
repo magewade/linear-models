{
  "cells": [
    {
      "cell_type": "markdown",
      "metadata": {
        "id": "QY4qPJPpgyIS"
      },
      "source": [
        "# Домашнее задание: декораторы"
      ]
    },
    {
      "cell_type": "markdown",
      "metadata": {
        "id": "Chacc6YchldZ"
      },
      "source": [
        "## Импорт библиотек, установка констант"
      ]
    },
    {
      "cell_type": "code",
      "execution_count": 71,
      "metadata": {
        "id": "w8iKrWvwhrFd"
      },
      "outputs": [],
      "source": [
        "import requests\n",
        "import time\n",
        "import re\n",
        "import functools"
      ]
    },
    {
      "cell_type": "code",
      "execution_count": 72,
      "metadata": {
        "id": "-LRkS0fSi8Np"
      },
      "outputs": [],
      "source": [
        "BOOK_PATH = 'https://www.gutenberg.org/files/2638/2638-0.txt'"
      ]
    },
    {
      "cell_type": "markdown",
      "metadata": {
        "id": "kARfL8ifg4MH"
      },
      "source": [
        "## Задание 1"
      ]
    },
    {
      "cell_type": "code",
      "execution_count": 73,
      "metadata": {
        "id": "hNHNWPhngrUl"
      },
      "outputs": [],
      "source": [
        "def benchmark(func):\n",
        "    \"\"\"\n",
        "    Декоратор, выводящий время, которое заняло выполнение декорируемой функции\n",
        "    \"\"\"\n",
        "    # Тут я с Фибоначчи слегка запуталась и бенчмарком, сначала написала такой код, но время показывалось для каждого рекурсивного вызова\n",
        "    # Так что пришлось костылить :)\n",
        "\n",
        "    # @functools.wraps(func)\n",
        "    # def wrapper(*args, **kwargs):\n",
        "    #     start_time = time.time()\n",
        "    #     result = func(*args, **kwargs)\n",
        "    #     end_time = time.time()\n",
        "    #     print(f\"Время выполнения функции {func.__name__}: {end_time - start_time} секунд\")\n",
        "    #     return result\n",
        "    # return wrapper\n",
        "\n",
        "\n",
        "    @functools.wraps(func)\n",
        "    def wrapper(*args, **kwargs):\n",
        "        if not hasattr(func, 'called'):\n",
        "            func.called = True\n",
        "            start_time = time.time()\n",
        "            result = func(*args, **kwargs)\n",
        "            end_time = time.time()\n",
        "            print(f\"Время выполнения функции {func.__name__}: {end_time - start_time} секунд\")\n",
        "        else:\n",
        "            result = func(*args, **kwargs)\n",
        "        return result\n",
        "    return wrapper"
      ]
    },
    {
      "cell_type": "markdown",
      "metadata": {
        "id": "tGlbUKjihL5n"
      },
      "source": [
        "## Задание 2"
      ]
    },
    {
      "cell_type": "code",
      "execution_count": 74,
      "metadata": {
        "id": "wugOZDLqhNe-"
      },
      "outputs": [],
      "source": [
        "def logging(func):\n",
        "    \"\"\"\n",
        "    Декоратор, который выводит параметры с которыми была вызвана функция\n",
        "    \"\"\"\n",
        "    @functools.wraps(func)\n",
        "    def wrapper(*args, **kwargs):\n",
        "        print(f\"Функция вызвана с параметрами:\\n{args}, {kwargs}\")\n",
        "        result = func(*args, **kwargs)\n",
        "        return result\n",
        "    return wrapper"
      ]
    },
    {
      "cell_type": "markdown",
      "metadata": {
        "id": "Sq1tv5fshTfv"
      },
      "source": [
        "## Задание 3"
      ]
    },
    {
      "cell_type": "code",
      "execution_count": 75,
      "metadata": {
        "id": "9nyvuxXkhVeb"
      },
      "outputs": [],
      "source": [
        "def counter(func):\n",
        "    \"\"\"\n",
        "    Декоратор, считающий и выводящий количество вызовов декорируемой функции\n",
        "    \"\"\"\n",
        "    @functools.wraps(func)\n",
        "    def wrapper(*args, **kwargs):\n",
        "        wrapper.count += 1\n",
        "        print(f\"Функция была вызвана: {wrapper.count} раз\")\n",
        "        result = func(*args, **kwargs)\n",
        "        return result\n",
        "    wrapper.count = 0\n",
        "    return wrapper"
      ]
    },
    {
      "cell_type": "markdown",
      "metadata": {
        "id": "uHn8Adfshz5q"
      },
      "source": [
        "## Задание 4"
      ]
    },
    {
      "cell_type": "code",
      "execution_count": 76,
      "metadata": {
        "id": "R7uu6WtGifNX"
      },
      "outputs": [],
      "source": [
        "def memo(func):\n",
        "    \"\"\"\n",
        "    Декоратор, запоминающий результаты исполнения функции func, чьи аргументы args должны быть хешируемыми\n",
        "    \"\"\"\n",
        "    cache = {}\n",
        "\n",
        "    @functools.wraps(func)\n",
        "    def fmemo(*args):\n",
        "        if args not in cache:\n",
        "            cache[args] = func(*args)\n",
        "        return cache[args] \n",
        "\n",
        "    fmemo.cache = cache\n",
        "    return fmemo"
      ]
    },
    {
      "cell_type": "markdown",
      "metadata": {
        "id": "Zn5UQCa_izxo"
      },
      "source": [
        "## Тестирование"
      ]
    },
    {
      "cell_type": "code",
      "execution_count": 77,
      "metadata": {
        "id": "CHCJ64I8i2QB"
      },
      "outputs": [
        {
          "name": "stdout",
          "output_type": "stream",
          "text": [
            "Функция была вызвана: 1 раз\n",
            "Функция вызвана с параметрами:\n",
            "('whole',), {}\n",
            "Время выполнения функции word_count: 2.9616971015930176 секунд\n",
            "Cлово whole встречается 176 раз\n"
          ]
        }
      ],
      "source": [
        "@counter\n",
        "@logging\n",
        "@benchmark\n",
        "def word_count(word, url=BOOK_PATH):\n",
        "    \"\"\"\n",
        "    Функция для посчета указанного слова на html-странице\n",
        "    \"\"\"\n",
        "\n",
        "    # отправляем запрос в библиотеку Gutenberg и забираем текст\n",
        "    raw = requests.get(url).text\n",
        "\n",
        "    # заменяем в тексте все небуквенные символы на пробелы\n",
        "    processed_book = re.sub('[\\W]+' , ' ', raw).lower()\n",
        "\n",
        "    # считаем\n",
        "    cnt = len(re.findall(word.lower(), processed_book))\n",
        "\n",
        "    return f\"Cлово {word} встречается {cnt} раз\"\n",
        "\n",
        "print(word_count('whole'))"
      ]
    },
    {
      "cell_type": "code",
      "execution_count": 78,
      "metadata": {
        "id": "ZE4Rfn-hh3k3"
      },
      "outputs": [],
      "source": [
        "@benchmark\n",
        "def fib(n):\n",
        "    if n < 2:\n",
        "        return n\n",
        "    return fib(n-2) + fib(n-1)"
      ]
    },
    {
      "cell_type": "code",
      "execution_count": 79,
      "metadata": {
        "id": "Io94NyjiiXG4"
      },
      "outputs": [
        {
          "name": "stdout",
          "output_type": "stream",
          "text": [
            "Время выполнения функции fib: 0.3323981761932373 секунд\n"
          ]
        },
        {
          "data": {
            "text/plain": [
              "832040"
            ]
          },
          "execution_count": 79,
          "metadata": {},
          "output_type": "execute_result"
        }
      ],
      "source": [
        "# измеряем время выполнения\n",
        "fib(30)"
      ]
    },
    {
      "cell_type": "code",
      "execution_count": 80,
      "metadata": {
        "id": "W9B3e-t9iTUj"
      },
      "outputs": [],
      "source": [
        "@benchmark\n",
        "@memo\n",
        "def fib_memo(n):\n",
        "    if n < 2:\n",
        "        return n\n",
        "    return fib_memo(n-2) + fib_memo(n-1)"
      ]
    },
    {
      "cell_type": "code",
      "execution_count": 81,
      "metadata": {
        "id": "Sk6_4KQaidkh"
      },
      "outputs": [
        {
          "name": "stdout",
          "output_type": "stream",
          "text": [
            "Время выполнения функции fib_memo: 1.9073486328125e-05 секунд\n"
          ]
        },
        {
          "data": {
            "text/plain": [
              "832040"
            ]
          },
          "execution_count": 81,
          "metadata": {},
          "output_type": "execute_result"
        }
      ],
      "source": [
        "# измеряем время выполнения\n",
        "fib_memo(30)"
      ]
    }
  ],
  "metadata": {
    "colab": {
      "provenance": []
    },
    "kernelspec": {
      "display_name": "Python 3",
      "name": "python3"
    },
    "language_info": {
      "codemirror_mode": {
        "name": "ipython",
        "version": 3
      },
      "file_extension": ".py",
      "mimetype": "text/x-python",
      "name": "python",
      "nbconvert_exporter": "python",
      "pygments_lexer": "ipython3",
      "version": "3.11.2"
    }
  },
  "nbformat": 4,
  "nbformat_minor": 0
}
