{
  "cells": [
    {
      "cell_type": "markdown",
      "metadata": {
        "id": "QY4qPJPpgyIS"
      },
      "source": [
        "# Домашнее задание: класс линейной регрессии"
      ]
    },
    {
      "cell_type": "markdown",
      "metadata": {
        "id": "Chacc6YchldZ"
      },
      "source": [
        "## Импорт библиотек, установка констант"
      ]
    },
    {
      "cell_type": "code",
      "execution_count": 39,
      "metadata": {
        "id": "w8iKrWvwhrFd"
      },
      "outputs": [],
      "source": [
        "import numpy as np\n",
        "import pandas as pd\n",
        "\n",
        "from sklearn.datasets import fetch_california_housing\n",
        "from sklearn.model_selection import train_test_split\n",
        "from sklearn.preprocessing import StandardScaler"
      ]
    },
    {
      "cell_type": "code",
      "execution_count": 40,
      "metadata": {
        "id": "CHNgJXXlVjO4"
      },
      "outputs": [],
      "source": [
        "RANDOM_STATE = 42\n",
        "TEST_SIZE = 0.25"
      ]
    },
    {
      "cell_type": "markdown",
      "metadata": {
        "id": "2K_pNTftYGH7"
      },
      "source": [
        "## Интерфейс Scikit-Learn"
      ]
    },
    {
      "cell_type": "markdown",
      "metadata": {
        "id": "IqHi_qAnYLGN"
      },
      "source": [
        "Scikit-Learn (`sklearn`)- библиотека, в которой реализованы практически все используемые сегодня алгоритмы машинного обучения.\n",
        "\n",
        "Для реализации алгоритмов машинного обучения в `sklearn` всегда используется один интерфейс - класс с функциями `fit(X, y)` для обучения модели по обучающей выборке `X`, `y` и `predict(X)` для возвращения предсказаний на выборке `X`. При создании класса можно указывать дополнительные параметры, влияющие на работу алгоритма машинного обучения."
      ]
    },
    {
      "cell_type": "markdown",
      "metadata": {
        "id": "kARfL8ifg4MH"
      },
      "source": [
        "## Линейная регрессия"
      ]
    },
    {
      "cell_type": "markdown",
      "metadata": {
        "id": "s03ZFGS7WBQx"
      },
      "source": [
        "Реализуйте класс линейной регрессии c L2-регуляризацией со следующей логикой:\n",
        "*   При создании класса задайте коэффициент регуляризации `reg_coef`, равный по умолчанию нулю, а также веса (=None)\n",
        "*   Задача функции `fit` - по выборке `X` и `y` найти веса `w` и сохранить их внутри класса в `self.w`:  \n",
        "$w = (X^TX + \\lambda I)^{-1}X^Ty,$\n",
        "где $\\lambda$ - коэффициент регуляризации, $I$ - единичная матрица.\n",
        "  \n",
        "P.S. Формула верна только при наличии вектора признаков, равного 1 - поэтому для вашего удобства мы уже добавили его в класс.\n",
        "\n",
        "*   Задача функции `predict` - по весам `self.w` и `X` вернуть предсказания  \n"
      ]
    },
    {
      "cell_type": "code",
      "execution_count": 41,
      "metadata": {
        "id": "hNHNWPhngrUl"
      },
      "outputs": [],
      "source": [
        "class LinearRegressor:\n",
        "    def __init__(self, reg_coef=0.0, weights=None) -> None:\n",
        "        self.w = weights\n",
        "        self.reg_coef = reg_coef\n",
        "\n",
        "    def fit(self, X_train: np.array, y_train: np.array) -> None:\n",
        "        X_train = np.hstack((np.ones((X_train.shape[0], 1)), X_train))\n",
        "\n",
        "        I = np.eye(X_train.shape[1])\n",
        "\n",
        "        self.w = (\n",
        "            np.linalg.inv(X_train.T @ X_train + self.reg_coef * I) @ X_train.T @ y_train\n",
        "        )\n",
        "\n",
        "    def predict(self, X_test: np.array) -> np.array:\n",
        "        X_test = np.hstack(\n",
        "            (np.ones((X_test.shape[0], 1)), X_test)\n",
        "        )  # добавление столбца единиц\n",
        "\n",
        "        pred = X_test @ self.w  # Прогнозирование\n",
        "\n",
        "        return pred\n",
        "\n",
        "    def r2_score(self, X_test: np.array, y_test: np.array) -> float:\n",
        "        y_pred = self.predict(X_test)\n",
        "        ss_res = np.sum((y_test - y_pred) ** 2)\n",
        "        ss_tot = np.sum((y_test - np.mean(y_test)) ** 2)\n",
        "        return 1 - (ss_res / ss_tot)"
      ]
    },
    {
      "cell_type": "markdown",
      "metadata": {
        "id": "nUr6LVKMZKJO"
      },
      "source": [
        "Если бы не использовали класс, нам пришлось бы передавать веса `w` в функцию `predict()` каждый раз, когда мы захотели бы сделать предсказания, а так они хранятся внутри класса. Это особенно удобно, если таких вспомогательных переменных много."
      ]
    },
    {
      "cell_type": "markdown",
      "metadata": {
        "id": "MJW77s17TjWc"
      },
      "source": [
        "Будем тестировать ваш класс на датасете о стоимости домов в Калифорнии."
      ]
    },
    {
      "cell_type": "code",
      "execution_count": 42,
      "metadata": {
        "id": "niRXfcjoTnY1"
      },
      "outputs": [],
      "source": [
        "X, y = fetch_california_housing(return_X_y=True, as_frame=True)"
      ]
    },
    {
      "cell_type": "markdown",
      "metadata": {
        "id": "iBoENaEHU5zp"
      },
      "source": [
        "Разобъем данные на тренировочную и тестовую часть."
      ]
    },
    {
      "cell_type": "code",
      "execution_count": 43,
      "metadata": {
        "id": "gPf5ioAqUj4z"
      },
      "outputs": [],
      "source": [
        "X_train, X_test, y_train, y_test = train_test_split(\n",
        "    X, y, test_size=TEST_SIZE, random_state=RANDOM_STATE\n",
        ")"
      ]
    },
    {
      "cell_type": "markdown",
      "metadata": {
        "id": "i052kbxBU8uH"
      },
      "source": [
        "Масштабируем данные."
      ]
    },
    {
      "cell_type": "code",
      "execution_count": 44,
      "metadata": {
        "id": "zDKnJu_mUra2"
      },
      "outputs": [],
      "source": [
        "sc = StandardScaler()\n",
        "\n",
        "sc.fit(X_train)\n",
        "\n",
        "X_train = pd.DataFrame(sc.transform(X_train), columns=X_train.columns)\n",
        "X_test = pd.DataFrame(sc.transform(X_test), columns=X_test.columns)"
      ]
    },
    {
      "cell_type": "markdown",
      "metadata": {
        "id": "5FgImqv-W2I8"
      },
      "source": [
        "## Задание 1\n",
        "\n",
        "Обучите вашу линейную регрессию (без регуляризации) на тренировочных данных. Выведите на экран максимальный по модулю вес (со знаком). Ответ округлите до сотых."
      ]
    },
    {
      "cell_type": "code",
      "execution_count": 45,
      "metadata": {
        "id": "O1GFjCzHW354"
      },
      "outputs": [
        {
          "name": "stdout",
          "output_type": "stream",
          "text": [
            "11.693312788839453\n",
            "2.070348920542635\n"
          ]
        }
      ],
      "source": [
        "# ваш код здесь\n",
        "lr = LinearRegressor()\n",
        "lr.fit(X_train, y_train)\n",
        "lr.predict(X_test)\n",
        "print(max(lr.predict(X_test)))\n",
        "print(max(lr.w))"
      ]
    },
    {
      "cell_type": "markdown",
      "metadata": {
        "id": "8_2fdHpGW5Tt"
      },
      "source": [
        "## Задание 2\n",
        "\n",
        "Сделайте прогноз на тестовых данных и выведите на экран значение метрики $R^2$ на тесте.  \n",
        "Ответ округлите до тысячных."
      ]
    },
    {
      "cell_type": "code",
      "execution_count": 46,
      "metadata": {
        "id": "8qXP-aqUW5xP"
      },
      "outputs": [
        {
          "data": {
            "text/plain": [
              "0.5910509795491352"
            ]
          },
          "execution_count": 46,
          "metadata": {},
          "output_type": "execute_result"
        }
      ],
      "source": [
        "# ваш код здесь\n",
        "lr.r2_score(X_test, y_test)"
      ]
    },
    {
      "cell_type": "markdown",
      "metadata": {
        "id": "ifbWwkBwW6eT"
      },
      "source": [
        "## Задание 3\n",
        "\n",
        "Теперь обучите линейную регрессию с коэффициентом регуляризации $\\alpha = 100$ на тренировочных данных.\n",
        "\n",
        "Чему теперь равен наибольший по модулю вес? Ответ округлите до сотых."
      ]
    },
    {
      "cell_type": "code",
      "execution_count": 51,
      "metadata": {
        "id": "6lsKNemsW6-U"
      },
      "outputs": [
        {
          "name": "stdout",
          "output_type": "stream",
          "text": [
            "2.0570604165596915\n"
          ]
        }
      ],
      "source": [
        "# ваш код здесь\n",
        "lr_100 = LinearRegressor(reg_coef=100)\n",
        "lr_100.fit(X_train, y_train)\n",
        "print(max(abs(lr_100.w)))"
      ]
    },
    {
      "cell_type": "markdown",
      "metadata": {
        "id": "aQGP9xoOW8Kc"
      },
      "source": [
        "## Задание 4\n",
        "\n",
        "Для модели с регуляризацией сделайте прогноз на тестовых данных и выведите на экран значение метрики $R^2$ на тесте.  \n",
        "Ответ округлите до тысячных."
      ]
    },
    {
      "cell_type": "code",
      "execution_count": 53,
      "metadata": {
        "id": "DkSCG1rUW8n-"
      },
      "outputs": [
        {
          "data": {
            "text/plain": [
              "0.5924168923824344"
            ]
          },
          "execution_count": 53,
          "metadata": {},
          "output_type": "execute_result"
        }
      ],
      "source": [
        "# ваш код здесь\n",
        "lr_100.r2_score(X_test, y_test)"
      ]
    },
    {
      "cell_type": "code",
      "execution_count": null,
      "metadata": {},
      "outputs": [],
      "source": []
    }
  ],
  "metadata": {
    "colab": {
      "provenance": []
    },
    "kernelspec": {
      "display_name": "Python 3",
      "name": "python3"
    },
    "language_info": {
      "codemirror_mode": {
        "name": "ipython",
        "version": 3
      },
      "file_extension": ".py",
      "mimetype": "text/x-python",
      "name": "python",
      "nbconvert_exporter": "python",
      "pygments_lexer": "ipython3",
      "version": "3.11.2"
    }
  },
  "nbformat": 4,
  "nbformat_minor": 0
}
